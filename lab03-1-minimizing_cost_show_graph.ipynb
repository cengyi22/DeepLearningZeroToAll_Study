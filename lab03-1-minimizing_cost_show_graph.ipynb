{
 "cells": [
  {
   "cell_type": "code",
   "execution_count": 2,
   "id": "c51b52d0",
   "metadata": {},
   "outputs": [],
   "source": [
    "import numpy as np\n",
    "import tensorflow as tf\n",
    "import matplotlib.pyplot as plt"
   ]
  },
  {
   "cell_type": "code",
   "execution_count": 3,
   "id": "ccadce7a",
   "metadata": {},
   "outputs": [],
   "source": [
    "x_train = [1, 2, 3, 4]\n",
    "y_train = [0, -1, -2, -3]"
   ]
  },
  {
   "cell_type": "code",
   "execution_count": 4,
   "id": "af5dc7a4",
   "metadata": {},
   "outputs": [],
   "source": [
    "# Sequential 모델은 레이어를 선형으로 연결하여 구성\n",
    "tf.model = tf.keras.Sequential()\n",
    "# .add() 메소드를 통해 레이어를 추가, 입력 형태 input_dim 인자 통해 지정\n",
    "tf.model.add(tf.keras.layers.Dense(units=1, input_dim=1))"
   ]
  },
  {
   "cell_type": "code",
   "execution_count": 5,
   "id": "84d01657",
   "metadata": {
    "scrolled": true
   },
   "outputs": [
    {
     "name": "stderr",
     "output_type": "stream",
     "text": [
      "C:\\Users\\NGN\\anaconda3\\envs\\tf_study_22\\lib\\site-packages\\keras\\optimizer_v2\\gradient_descent.py:102: UserWarning: The `lr` argument is deprecated, use `learning_rate` instead.\n",
      "  super(SGD, self).__init__(name, **kwargs)\n"
     ]
    }
   ],
   "source": [
    "# 모델을 학습시키기 이전에, compile 메소드를 통해 학습 방식에 대한 환경 설정\n",
    "# 정규화기 optimizer, 손실함수 loss function, 기준 metric 리스트\n",
    "sgd = tf.keras.optimizers.SGD(lr=0.1)\n",
    "tf.model.compile(loss='mse', optimizer=sgd)"
   ]
  },
  {
   "cell_type": "code",
   "execution_count": 6,
   "id": "6e698822",
   "metadata": {},
   "outputs": [
    {
     "name": "stdout",
     "output_type": "stream",
     "text": [
      "Model: \"sequential\"\n",
      "_________________________________________________________________\n",
      " Layer (type)                Output Shape              Param #   \n",
      "=================================================================\n",
      " dense (Dense)               (None, 1)                 2         \n",
      "                                                                 \n",
      "=================================================================\n",
      "Total params: 2\n",
      "Trainable params: 2\n",
      "Non-trainable params: 0\n",
      "_________________________________________________________________\n"
     ]
    }
   ],
   "source": [
    "tf.model.summary()"
   ]
  },
  {
   "cell_type": "code",
   "execution_count": 10,
   "id": "ee92b35d",
   "metadata": {},
   "outputs": [
    {
     "name": "stdout",
     "output_type": "stream",
     "text": [
      "Epoch 1/100\n",
      "1/1 [==============================] - 0s 5ms/step - loss: 0.0011\n",
      "Epoch 2/100\n",
      "1/1 [==============================] - 0s 4ms/step - loss: 9.9489e-04\n",
      "Epoch 3/100\n",
      "1/1 [==============================] - 0s 5ms/step - loss: 9.3621e-04\n",
      "Epoch 4/100\n",
      "1/1 [==============================] - 0s 5ms/step - loss: 8.8099e-04\n",
      "Epoch 5/100\n",
      "1/1 [==============================] - 0s 5ms/step - loss: 8.2903e-04\n",
      "Epoch 6/100\n",
      "1/1 [==============================] - 0s 6ms/step - loss: 7.8013e-04\n",
      "Epoch 7/100\n",
      "1/1 [==============================] - 0s 5ms/step - loss: 7.3411e-04\n",
      "Epoch 8/100\n",
      "1/1 [==============================] - 0s 4ms/step - loss: 6.9082e-04\n",
      "Epoch 9/100\n",
      "1/1 [==============================] - 0s 6ms/step - loss: 6.5007e-04\n",
      "Epoch 10/100\n",
      "1/1 [==============================] - 0s 6ms/step - loss: 6.1173e-04\n",
      "Epoch 11/100\n",
      "1/1 [==============================] - 0s 5ms/step - loss: 5.7565e-04\n",
      "Epoch 12/100\n",
      "1/1 [==============================] - 0s 5ms/step - loss: 5.4169e-04\n",
      "Epoch 13/100\n",
      "1/1 [==============================] - 0s 6ms/step - loss: 5.0975e-04\n",
      "Epoch 14/100\n",
      "1/1 [==============================] - 0s 6ms/step - loss: 4.7968e-04\n",
      "Epoch 15/100\n",
      "1/1 [==============================] - 0s 5ms/step - loss: 4.5139e-04\n",
      "Epoch 16/100\n",
      "1/1 [==============================] - 0s 5ms/step - loss: 4.2476e-04\n",
      "Epoch 17/100\n",
      "1/1 [==============================] - 0s 6ms/step - loss: 3.9971e-04\n",
      "Epoch 18/100\n",
      "1/1 [==============================] - 0s 6ms/step - loss: 3.7613e-04\n",
      "Epoch 19/100\n",
      "1/1 [==============================] - 0s 5ms/step - loss: 3.5395e-04\n",
      "Epoch 20/100\n",
      "1/1 [==============================] - 0s 6ms/step - loss: 3.3307e-04\n",
      "Epoch 21/100\n",
      "1/1 [==============================] - 0s 6ms/step - loss: 3.1343e-04\n",
      "Epoch 22/100\n",
      "1/1 [==============================] - 0s 5ms/step - loss: 2.9494e-04\n",
      "Epoch 23/100\n",
      "1/1 [==============================] - 0s 5ms/step - loss: 2.7754e-04\n",
      "Epoch 24/100\n",
      "1/1 [==============================] - 0s 7ms/step - loss: 2.6117e-04\n",
      "Epoch 25/100\n",
      "1/1 [==============================] - 0s 5ms/step - loss: 2.4577e-04\n",
      "Epoch 26/100\n",
      "1/1 [==============================] - 0s 6ms/step - loss: 2.3127e-04\n",
      "Epoch 27/100\n",
      "1/1 [==============================] - 0s 5ms/step - loss: 2.1763e-04\n",
      "Epoch 28/100\n",
      "1/1 [==============================] - 0s 6ms/step - loss: 2.0480e-04\n",
      "Epoch 29/100\n",
      "1/1 [==============================] - 0s 5ms/step - loss: 1.9272e-04\n",
      "Epoch 30/100\n",
      "1/1 [==============================] - 0s 5ms/step - loss: 1.8135e-04\n",
      "Epoch 31/100\n",
      "1/1 [==============================] - 0s 6ms/step - loss: 1.7065e-04\n",
      "Epoch 32/100\n",
      "1/1 [==============================] - 0s 6ms/step - loss: 1.6059e-04\n",
      "Epoch 33/100\n",
      "1/1 [==============================] - 0s 5ms/step - loss: 1.5112e-04\n",
      "Epoch 34/100\n",
      "1/1 [==============================] - 0s 6ms/step - loss: 1.4220e-04\n",
      "Epoch 35/100\n",
      "1/1 [==============================] - 0s 6ms/step - loss: 1.3382e-04\n",
      "Epoch 36/100\n",
      "1/1 [==============================] - 0s 5ms/step - loss: 1.2592e-04\n",
      "Epoch 37/100\n",
      "1/1 [==============================] - 0s 5ms/step - loss: 1.1850e-04\n",
      "Epoch 38/100\n",
      "1/1 [==============================] - 0s 5ms/step - loss: 1.1151e-04\n",
      "Epoch 39/100\n",
      "1/1 [==============================] - 0s 7ms/step - loss: 1.0493e-04\n",
      "Epoch 40/100\n",
      "1/1 [==============================] - 0s 6ms/step - loss: 9.8741e-05\n",
      "Epoch 41/100\n",
      "1/1 [==============================] - 0s 6ms/step - loss: 9.2918e-05\n",
      "Epoch 42/100\n",
      "1/1 [==============================] - 0s 6ms/step - loss: 8.7437e-05\n",
      "Epoch 43/100\n",
      "1/1 [==============================] - 0s 5ms/step - loss: 8.2280e-05\n",
      "Epoch 44/100\n",
      "1/1 [==============================] - 0s 5ms/step - loss: 7.7427e-05\n",
      "Epoch 45/100\n",
      "1/1 [==============================] - 0s 6ms/step - loss: 7.2860e-05\n",
      "Epoch 46/100\n",
      "1/1 [==============================] - 0s 6ms/step - loss: 6.8562e-05\n",
      "Epoch 47/100\n",
      "1/1 [==============================] - 0s 6ms/step - loss: 6.4519e-05\n",
      "Epoch 48/100\n",
      "1/1 [==============================] - 0s 5ms/step - loss: 6.0713e-05\n",
      "Epoch 49/100\n",
      "1/1 [==============================] - 0s 6ms/step - loss: 5.7132e-05\n",
      "Epoch 50/100\n",
      "1/1 [==============================] - 0s 5ms/step - loss: 5.3763e-05\n",
      "Epoch 51/100\n",
      "1/1 [==============================] - 0s 7ms/step - loss: 5.0592e-05\n",
      "Epoch 52/100\n",
      "1/1 [==============================] - 0s 6ms/step - loss: 4.7607e-05\n",
      "Epoch 53/100\n",
      "1/1 [==============================] - 0s 5ms/step - loss: 4.4799e-05\n",
      "Epoch 54/100\n",
      "1/1 [==============================] - 0s 7ms/step - loss: 4.2157e-05\n",
      "Epoch 55/100\n",
      "1/1 [==============================] - 0s 7ms/step - loss: 3.9671e-05\n",
      "Epoch 56/100\n",
      "1/1 [==============================] - 0s 5ms/step - loss: 3.7331e-05\n",
      "Epoch 57/100\n",
      "1/1 [==============================] - 0s 5ms/step - loss: 3.5129e-05\n",
      "Epoch 58/100\n",
      "1/1 [==============================] - 0s 5ms/step - loss: 3.3057e-05\n",
      "Epoch 59/100\n",
      "1/1 [==============================] - 0s 5ms/step - loss: 3.1108e-05\n",
      "Epoch 60/100\n",
      "1/1 [==============================] - 0s 6ms/step - loss: 2.9273e-05\n",
      "Epoch 61/100\n",
      "1/1 [==============================] - 0s 6ms/step - loss: 2.7546e-05\n",
      "Epoch 62/100\n",
      "1/1 [==============================] - 0s 5ms/step - loss: 2.5922e-05\n",
      "Epoch 63/100\n",
      "1/1 [==============================] - 0s 5ms/step - loss: 2.4392e-05\n",
      "Epoch 64/100\n",
      "1/1 [==============================] - 0s 5ms/step - loss: 2.2954e-05\n",
      "Epoch 65/100\n",
      "1/1 [==============================] - 0s 5ms/step - loss: 2.1600e-05\n",
      "Epoch 66/100\n",
      "1/1 [==============================] - 0s 5ms/step - loss: 2.0326e-05\n",
      "Epoch 67/100\n",
      "1/1 [==============================] - 0s 6ms/step - loss: 1.9127e-05\n",
      "Epoch 68/100\n",
      "1/1 [==============================] - 0s 6ms/step - loss: 1.7999e-05\n",
      "Epoch 69/100\n",
      "1/1 [==============================] - 0s 4ms/step - loss: 1.6937e-05\n",
      "Epoch 70/100\n",
      "1/1 [==============================] - 0s 5ms/step - loss: 1.5938e-05\n",
      "Epoch 71/100\n",
      "1/1 [==============================] - 0s 4ms/step - loss: 1.4998e-05\n",
      "Epoch 72/100\n",
      "1/1 [==============================] - 0s 4ms/step - loss: 1.4113e-05\n",
      "Epoch 73/100\n",
      "1/1 [==============================] - 0s 5ms/step - loss: 1.3281e-05\n",
      "Epoch 74/100\n",
      "1/1 [==============================] - 0s 5ms/step - loss: 1.2498e-05\n",
      "Epoch 75/100\n",
      "1/1 [==============================] - 0s 5ms/step - loss: 1.1760e-05\n",
      "Epoch 76/100\n",
      "1/1 [==============================] - 0s 5ms/step - loss: 1.1067e-05\n",
      "Epoch 77/100\n",
      "1/1 [==============================] - 0s 6ms/step - loss: 1.0414e-05\n",
      "Epoch 78/100\n",
      "1/1 [==============================] - 0s 4ms/step - loss: 9.7999e-06\n",
      "Epoch 79/100\n",
      "1/1 [==============================] - 0s 5ms/step - loss: 9.2219e-06\n",
      "Epoch 80/100\n",
      "1/1 [==============================] - 0s 4ms/step - loss: 8.6780e-06\n",
      "Epoch 81/100\n",
      "1/1 [==============================] - 0s 5ms/step - loss: 8.1660e-06\n",
      "Epoch 82/100\n",
      "1/1 [==============================] - 0s 5ms/step - loss: 7.6842e-06\n",
      "Epoch 83/100\n",
      "1/1 [==============================] - 0s 5ms/step - loss: 7.2311e-06\n",
      "Epoch 84/100\n",
      "1/1 [==============================] - 0s 5ms/step - loss: 6.8048e-06\n",
      "Epoch 85/100\n",
      "1/1 [==============================] - 0s 4ms/step - loss: 6.4033e-06\n",
      "Epoch 86/100\n",
      "1/1 [==============================] - 0s 5ms/step - loss: 6.0258e-06\n",
      "Epoch 87/100\n",
      "1/1 [==============================] - 0s 6ms/step - loss: 5.6704e-06\n",
      "Epoch 88/100\n",
      "1/1 [==============================] - 0s 5ms/step - loss: 5.3357e-06\n",
      "Epoch 89/100\n",
      "1/1 [==============================] - 0s 6ms/step - loss: 5.0210e-06\n",
      "Epoch 90/100\n",
      "1/1 [==============================] - 0s 6ms/step - loss: 4.7251e-06\n",
      "Epoch 91/100\n",
      "1/1 [==============================] - 0s 4ms/step - loss: 4.4464e-06\n",
      "Epoch 92/100\n",
      "1/1 [==============================] - 0s 6ms/step - loss: 4.1841e-06\n",
      "Epoch 93/100\n",
      "1/1 [==============================] - 0s 7ms/step - loss: 3.9372e-06\n",
      "Epoch 94/100\n",
      "1/1 [==============================] - 0s 5ms/step - loss: 3.7050e-06\n",
      "Epoch 95/100\n",
      "1/1 [==============================] - 0s 6ms/step - loss: 3.4864e-06\n",
      "Epoch 96/100\n",
      "1/1 [==============================] - 0s 6ms/step - loss: 3.2808e-06\n",
      "Epoch 97/100\n",
      "1/1 [==============================] - 0s 6ms/step - loss: 3.0873e-06\n",
      "Epoch 98/100\n",
      "1/1 [==============================] - 0s 5ms/step - loss: 2.9052e-06\n",
      "Epoch 99/100\n"
     ]
    },
    {
     "name": "stdout",
     "output_type": "stream",
     "text": [
      "1/1 [==============================] - 0s 5ms/step - loss: 2.7339e-06\n",
      "Epoch 100/100\n",
      "1/1 [==============================] - 0s 6ms/step - loss: 2.5726e-06\n"
     ]
    }
   ],
   "source": [
    "# fit() trains the model and returns history of train\n",
    "# 모델 학습을 위해 fit 함수 사용\n",
    "# 케라스 모델들은 입력 데이터와 라벨로 구성된 Numpy 배열 위에서 이루어짐\n",
    "history = tf.model.fit(x_train, y_train, epochs=100)"
   ]
  },
  {
   "cell_type": "code",
   "execution_count": 8,
   "id": "b1443cc7",
   "metadata": {},
   "outputs": [
    {
     "name": "stdout",
     "output_type": "stream",
     "text": [
      "[[-3.9442573]\n",
      " [-2.9713182]]\n"
     ]
    }
   ],
   "source": [
    "y_predict = tf.model.predict(np.array([5, 4]))\n",
    "print(y_predict)"
   ]
  },
  {
   "cell_type": "code",
   "execution_count": 9,
   "id": "b93d5592",
   "metadata": {},
   "outputs": [
    {
     "data": {
      "image/png": "[encoded data removed]",
      "text/plain": [
       "<Figure size 432x288 with 1 Axes>"
      ]
     },
     "metadata": {
      "needs_background": "light"
     },
     "output_type": "display_data"
    }
   ],
   "source": [
    "# Plot training & validation loss values\n",
    "plt.plot(history.history['loss'])\n",
    "plt.title('Model loss')\n",
    "plt.ylabel('Loss')\n",
    "plt.xlabel('Epoch')\n",
    "plt.legend(['Train', 'Test'], loc='upper left')\n",
    "plt.show()"
   ]
  }
 ],
 "metadata": {
  "kernelspec": {
   "display_name": "Python 3 (ipykernel)",
   "language": "python",
   "name": "python3"
  },
  "language_info": {
   "codemirror_mode": {
    "name": "ipython",
    "version": 3
   },
   "file_extension": ".py",
   "mimetype": "text/x-python",
   "name": "python",
   "nbconvert_exporter": "python",
   "pygments_lexer": "ipython3",
   "version": "3.9.12"
  }
 },
 "nbformat": 4,
 "nbformat_minor": 5
}
