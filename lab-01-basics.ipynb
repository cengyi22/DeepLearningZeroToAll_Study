{
 "cells": [
  {
   "cell_type": "markdown",
   "id": "57d4ab9d",
   "metadata": {},
   "source": [
    "# Check TF version"
   ]
  },
  {
   "cell_type": "code",
   "execution_count": 1,
   "id": "bc53c748",
   "metadata": {},
   "outputs": [
    {
     "data": {
      "text/plain": [
       "'2.7.0'"
      ]
     },
     "execution_count": 1,
     "metadata": {},
     "output_type": "execute_result"
    }
   ],
   "source": [
    "import tensorflow as tf\n",
    "tf.__version__"
   ]
  },
  {
   "cell_type": "markdown",
   "id": "d1bf401c",
   "metadata": {},
   "source": [
    "# Hello TensorFlow! (tf ver2)"
   ]
  },
  {
   "cell_type": "code",
   "execution_count": 2,
   "id": "04e14cf5",
   "metadata": {},
   "outputs": [],
   "source": [
    "# Create a constant op\n",
    "# This op is added as a node to the default graph\n",
    "hello = tf.constant(\"Hello, TensorFlow!\")"
   ]
  },
  {
   "cell_type": "code",
   "execution_count": 3,
   "id": "a5750eb3",
   "metadata": {},
   "outputs": [
    {
     "name": "stdout",
     "output_type": "stream",
     "text": [
      "tf.Tensor(b'Hello, TensorFlow!', shape=(), dtype=string)\n"
     ]
    }
   ],
   "source": [
    "# run the op and get result\n",
    "print(hello)"
   ]
  },
  {
   "cell_type": "markdown",
   "id": "30eea0bf",
   "metadata": {},
   "source": [
    "# Tensors"
   ]
  },
  {
   "cell_type": "code",
   "execution_count": 4,
   "id": "bec69d0b",
   "metadata": {},
   "outputs": [
    {
     "data": {
      "text/plain": [
       "[[[1.0, 2.0, 3.0]], [[7.0, 8.0, 9.0]]]"
      ]
     },
     "execution_count": 4,
     "metadata": {},
     "output_type": "execute_result"
    }
   ],
   "source": [
    "3 # a rank 0 tensor; this is a scalar with shape []\n",
    "[1. ,2., 3.] # a rank 1 tensor; this is a vector with shape [3]\n",
    "[[1., 2., 3.], [4., 5., 6.]] # a rank 2 tensor; a matrix with shape [2, 3]\n",
    "[[[1., 2., 3.]], [[7., 8., 9.]]] # a rank 3 tensor with shape [2, 1, 3]"
   ]
  },
  {
   "cell_type": "markdown",
   "id": "1068f4a4",
   "metadata": {},
   "source": [
    "# Computational Graph (tf. ver2)"
   ]
  },
  {
   "cell_type": "code",
   "execution_count": 5,
   "id": "92e724b6",
   "metadata": {},
   "outputs": [],
   "source": [
    "node1 = tf.constant(3.0, tf.float32)\n",
    "node2 = tf.constant(4.0) # also tf.float32 implicitly\n",
    "node3 = tf.add(node1, node2)"
   ]
  },
  {
   "cell_type": "code",
   "execution_count": 6,
   "id": "ae1f13e9",
   "metadata": {},
   "outputs": [
    {
     "name": "stdout",
     "output_type": "stream",
     "text": [
      "node1: tf.Tensor(3.0, shape=(), dtype=float32) node2: tf.Tensor(4.0, shape=(), dtype=float32)\n",
      "node3:  tf.Tensor(7.0, shape=(), dtype=float32)\n"
     ]
    }
   ],
   "source": [
    "print(\"node1:\", node1, \"node2:\", node2)\n",
    "print(\"node3: \", node3)"
   ]
  },
  {
   "cell_type": "code",
   "execution_count": 19,
   "id": "60c10bc8",
   "metadata": {},
   "outputs": [
    {
     "name": "stdout",
     "output_type": "stream",
     "text": [
      "tf.Tensor(7.5, shape=(), dtype=float32)\n",
      "tf.Tensor([3. 7.], shape=(2,), dtype=float32)\n"
     ]
    }
   ],
   "source": [
    "# a = tf.placeholder(tf.float32)\n",
    "# b = tf.placeholder(tf.float32)\n",
    "# adder_node = a + b  # + provides a shortcut for tf.add(a, b)\n",
    "\n",
    "# print(sess.run(adder_node, feed_dict={a: 3, b: 4.5}))\n",
    "# print(sess.run(adder_node, feed_dict={a: [1,3], b: [2, 4]}))\n",
    "\n",
    "a = tf.constant(3, dtype=tf.float32)\n",
    "b = tf.constant(4.5, dtype=tf.float32)\n",
    "\n",
    "c = tf.constant([1,3], dtype=tf.float32)\n",
    "d = tf.constant([2,4], dtype=tf.float32)\n",
    "\n",
    "# 함수 정의\n",
    "def adder_node(a, b):\n",
    "    return a+b\n",
    "\n",
    "\n",
    "print(adder_node(a,b))\n",
    "print(adder_node(c,d))"
   ]
  },
  {
   "cell_type": "code",
   "execution_count": 22,
   "id": "05e128a5",
   "metadata": {},
   "outputs": [
    {
     "name": "stdout",
     "output_type": "stream",
     "text": [
      "tf.Tensor(22.5, shape=(), dtype=float32)\n"
     ]
    }
   ],
   "source": [
    "add_and_triple = adder_node(a,b) * 3.\n",
    "print(add_and_triple)"
   ]
  }
 ],
 "metadata": {
  "kernelspec": {
   "display_name": "Python 3 (ipykernel)",
   "language": "python",
   "name": "python3"
  },
  "language_info": {
   "codemirror_mode": {
    "name": "ipython",
    "version": 3
   },
   "file_extension": ".py",
   "mimetype": "text/x-python",
   "name": "python",
   "nbconvert_exporter": "python",
   "pygments_lexer": "ipython3",
   "version": "3.9.12"
  }
 },
 "nbformat": 4,
 "nbformat_minor": 5
}
