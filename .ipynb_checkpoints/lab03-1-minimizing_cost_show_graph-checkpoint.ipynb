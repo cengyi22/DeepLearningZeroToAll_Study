{
 "cells": [
  {
   "cell_type": "code",
   "execution_count": 3,
   "id": "c51b52d0",
   "metadata": {},
   "outputs": [],
   "source": [
    "import numpy as np\n",
    "import tensorflow as tf\n",
    "import matplotlib.pyplot as plt"
   ]
  },
  {
   "cell_type": "code",
   "execution_count": 5,
   "id": "ccadce7a",
   "metadata": {},
   "outputs": [],
   "source": [
    "x_train = [1, 2, 3, 4]\n",
    "y_train = [0, -1, -2, -3]"
   ]
  },
  {
   "cell_type": "code",
   "execution_count": 11,
   "id": "af5dc7a4",
   "metadata": {},
   "outputs": [],
   "source": [
    "# Sequential 모델은 레이어를 선형으로 연결하여 구성\n",
    "tf.model = tf.keras.Sequential()\n",
    "# .add() 메소드를 통해 레이어를 추가, 입력 형태 input_dim 인자 통해 지정\n",
    "tf.model.add(tf.keras.layers.Dense(units=1, input_dim=1))"
   ]
  },
  {
   "cell_type": "code",
   "execution_count": 12,
   "id": "84d01657",
   "metadata": {
    "scrolled": true
   },
   "outputs": [],
   "source": [
    "# 모델을 학습시키기 이전에, compile 메소드를 통해 학습 방식에 대한 환경 설정\n",
    "# 정규화기 o\n",
    "sgd = tf.keras.optimizers.SGD(lr=0.1)\n",
    "tf.model.compile(loss='mse', optimizer=sgd)"
   ]
  },
  {
   "cell_type": "code",
   "execution_count": 13,
   "id": "6e698822",
   "metadata": {},
   "outputs": [
    {
     "name": "stdout",
     "output_type": "stream",
     "text": [
      "Model: \"sequential_3\"\n",
      "_________________________________________________________________\n",
      " Layer (type)                Output Shape              Param #   \n",
      "=================================================================\n",
      " dense_3 (Dense)             (None, 1)                 2         \n",
      "                                                                 \n",
      "=================================================================\n",
      "Total params: 2\n",
      "Trainable params: 2\n",
      "Non-trainable params: 0\n",
      "_________________________________________________________________\n"
     ]
    }
   ],
   "source": [
    "tf.model.summary()"
   ]
  },
  {
   "cell_type": "code",
   "execution_count": null,
   "id": "ee92b35d",
   "metadata": {},
   "outputs": [],
   "source": []
  }
 ],
 "metadata": {
  "kernelspec": {
   "display_name": "Python 3 (ipykernel)",
   "language": "python",
   "name": "python3"
  },
  "language_info": {
   "codemirror_mode": {
    "name": "ipython",
    "version": 3
   },
   "file_extension": ".py",
   "mimetype": "text/x-python",
   "name": "python",
   "nbconvert_exporter": "python",
   "pygments_lexer": "ipython3",
   "version": "3.9.12"
  }
 },
 "nbformat": 4,
 "nbformat_minor": 5
}
